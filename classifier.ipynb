{
 "cells": [
  {
   "cell_type": "markdown",
   "id": "d42af45e",
   "metadata": {},
   "source": [
    "## Sentiment Analysis on Reviews "
   ]
  },
  {
   "cell_type": "code",
   "execution_count": 10,
   "id": "e7500ab9",
   "metadata": {},
   "outputs": [],
   "source": [
    "import pandas as pd\n",
    "import matplotlib.pyplot as plt\n",
    "import re\n",
    "import tensorflow as tf\n",
    "from tensorflow.keras.preprocessing.text import Tokenizer\n",
    "from tensorflow.keras.preprocessing.sequence import pad_sequences\n",
    "from tensorflow.keras.models import Sequential\n",
    "from tensorflow.keras.layers import LSTM,Dense, Dropout, SpatialDropout1D\n",
    "from tensorflow.keras.layers import Embedding\n",
    "\n"
   ]
  },
  {
   "cell_type": "code",
   "execution_count": 30,
   "id": "ef93c997",
   "metadata": {},
   "outputs": [
    {
     "name": "stdout",
     "output_type": "stream",
     "text": [
      "(10000, 2)\n",
      "(1541, 2)\n"
     ]
    }
   ],
   "source": [
    "amazondata = []\n",
    "with open(\"./Amazon_Data.txt\") as f: \n",
    "    for line in f: \n",
    "        line = line.replace(\"__label__2 \", \"positive\\t\")\n",
    "        line = line.replace(\"__label__1 \", \"negative\\t\")\n",
    "        amazondata.append(line.split(\"\\t\"))\n",
    "       \n",
    "review_df = pd.DataFrame(amazondata)\n",
    "review_df.columns = [\"sentiment\", 'text']\n",
    "\n",
    "#df.head\n",
    "review_df = review_df.sample(11541, random_state=1)\n",
    "\n",
    "# test data\n",
    "test_review_df = review_df[10000:]\n",
    "\n",
    "# train and validation data\n",
    "review_df = review_df[:10000]\n",
    "print(review_df.shape)\n",
    "print(test_review_df.shape)\n",
    "\n",
    "\n",
    "# test data\n",
    "review_df.head()\n",
    "review_df['sentiment'].value_counts()\n",
    "sentiment_label = review_df.sentiment.factorize()\n",
    "sentiment_label\n",
    "review = review_df.text.values\n",
    "tokenizer = Tokenizer(num_words=50000)\n",
    "tokenizer.fit_on_texts(review)\n",
    "vocab_size = len(tokenizer.word_index) + 1\n",
    "encoded_docs = tokenizer.texts_to_sequences(review)\n",
    "padded_sequence = pad_sequences(encoded_docs, maxlen=200)\n",
    "\n",
    "\n"
   ]
  },
  {
   "cell_type": "code",
   "execution_count": 34,
   "id": "6606c3dd",
   "metadata": {},
   "outputs": [
    {
     "name": "stdout",
     "output_type": "stream",
     "text": [
      "(10000, 2)\n",
      "(3864, 2)\n"
     ]
    }
   ],
   "source": [
    "#process movie data\n",
    "moviedata = []\n",
    "with open(\"./Rateitall_Data.txt\") as f: \n",
    "    for line in f: \n",
    "        moviedata.append(line.split(\"\\t\"))\n",
    "        # re.sub(r\"__label_2 \", \"positive\\t\", line)\n",
    "        # re.sub(r\"__label__1\", \"negative\\t\", line)\n",
    "        #break\n",
    "        \n",
    "movie_df = pd.DataFrame(moviedata)\n",
    "movie_df.columns = [\"sentiment\", 'text']\n",
    "movie_df = movie_df.sample(13864, random_state=1)\n",
    "\n",
    "test_movie_df = movie_df[10000:]\n",
    "movie_df = movie_df[:10000]\n",
    "\n",
    "print(movie_df.shape)\n",
    "print(test_movie_df.shape)\n",
    "\n",
    "movie_df.head()\n",
    "movie_df['sentiment'].value_counts()\n",
    "sentiment_label = movie_df.sentiment.factorize()\n",
    "sentiment_label\n",
    "movie = movie_df.text.values\n",
    "tokenizer = Tokenizer(num_words=50000)\n",
    "tokenizer.fit_on_texts(movie)\n",
    "vocab_size = len(tokenizer.word_index) + 1\n",
    "encoded_docs = tokenizer.texts_to_sequences(movie)\n",
    "padded_sequence = pad_sequences(encoded_docs, maxlen=200)"
   ]
  },
  {
   "cell_type": "code",
   "execution_count": 58,
   "id": "54d2aa19",
   "metadata": {},
   "outputs": [],
   "source": []
  },
  {
   "cell_type": "code",
   "execution_count": 31,
   "id": "2ebbbd23",
   "metadata": {},
   "outputs": [
    {
     "name": "stdout",
     "output_type": "stream",
     "text": [
      "(10000, 2)\n",
      "(1541, 2)\n"
     ]
    }
   ],
   "source": [
    "#process twitter data\n",
    "df = pd.read_csv(\"./Tweet_Data.csv\")\n",
    "df.head()\n",
    "df.columns\n",
    "tweet_df = df[['text','airline_sentiment']]\n",
    "tweet_df.head(5)\n",
    "tweet_df = tweet_df[tweet_df['airline_sentiment'] != 'neutral']\n",
    "\n",
    "tweet_df.head(5)\n",
    "tweet_df = tweet_df.sample(11541, random_state=1)\n",
    "test_tweet_df = tweet_df[10000:]\n",
    "tweet_df = tweet_df[:10000]\n",
    "print(tweet_df.shape)\n",
    "print(test_tweet_df.shape)\n",
    "tweet_df[\"airline_sentiment\"].value_counts()\n",
    "sentiment_label = tweet_df.airline_sentiment.factorize()\n",
    "sentiment_label\n",
    "\n",
    "tweet = tweet_df.text.values\n",
    "tokenizer = Tokenizer(num_words=5000)\n",
    "tokenizer.fit_on_texts(tweet)\n",
    "vocab_size = len(tokenizer.word_index) + 1\n",
    "encoded_docs = tokenizer.texts_to_sequences(tweet)\n",
    "padded_sequence = pad_sequences(encoded_docs, maxlen=200)"
   ]
  },
  {
   "cell_type": "code",
   "execution_count": 33,
   "id": "6d659120",
   "metadata": {},
   "outputs": [
    {
     "name": "stdout",
     "output_type": "stream",
     "text": [
      "(10000, 2)\n",
      "(1541, 2)\n"
     ]
    }
   ],
   "source": [
    "#process reddit data\n",
    "df = pd.read_csv(\"./Reddit_Data.csv\")\n",
    "df.head()\n",
    "df.columns\n",
    "reddit_df = df[['clean_comment','category']]\n",
    "# print(reddit_df.shape)\n",
    "reddit_df.head(5)\n",
    "reddit_df = reddit_df[reddit_df['category'] != 0]\n",
    "\n",
    "reddit_df = reddit_df.sample(11541, random_state=1)\n",
    "test_reddit_df = reddit_df[10000:]\n",
    "reddit_df = reddit_df[:10000]\n",
    "print(reddit_df.shape)\n",
    "print(test_reddit_df.shape)\n",
    "reddit_df.head(5)\n",
    "reddit_df[\"category\"].value_counts()\n",
    "sentiment_label = reddit_df.category.factorize()\n",
    "sentiment_label\n",
    "\n",
    "reddit_df[\"category\"].replace(to_replace=1, value=\"positive\", inplace=True)\n",
    "reddit_df[\"category\"].replace(to_replace=-1, value=\"negative\", inplace=True)\n",
    "\n",
    "\n",
    "reddit = reddit_df.clean_comment.values\n",
    "tokenizer = Tokenizer(num_words=5000)\n",
    "tokenizer.fit_on_texts(reddit)\n",
    "vocab_size = len(tokenizer.word_index) + 1\n",
    "encoded_docs = tokenizer.texts_to_sequences(reddit)\n",
    "padded_sequence = pad_sequences(encoded_docs, maxlen=200)"
   ]
  },
  {
   "cell_type": "code",
   "execution_count": 20,
   "id": "69ed76e5",
   "metadata": {},
   "outputs": [],
   "source": [
    "print(tokenizer.word_index)"
   ]
  },
  {
   "cell_type": "code",
   "execution_count": null,
   "id": "eb82b8ed",
   "metadata": {},
   "outputs": [],
   "source": [
    "print(tweet[0])\n",
    "print(encoded_docs[0])"
   ]
  },
  {
   "cell_type": "code",
   "execution_count": 47,
   "id": "427ff188",
   "metadata": {},
   "outputs": [
    {
     "name": "stdout",
     "output_type": "stream",
     "text": [
      "[   0    0    0    0    0    0    0    0    0    0    0    0    0    0\n",
      "    0    0    0    0    0    0    0    0    0    0    0    0    0    0\n",
      "    0    0    0    0    0    0    0    0    0    0    0    0    0    0\n",
      "    0    0    0    0    0    0    0    0    0    0    0    0    0    0\n",
      "    0    0    0    0    0    0    0    0    0    0    0    0    0    0\n",
      "    0    0    0    0    0    0    0    0    0    0    0    0    0    0\n",
      "    0    0    0    0    0    0    0    0    0    0    0    0    0    0\n",
      "    0    0    0    0    0    0    0    0    0    0    0    0    0    0\n",
      "    0    0    0    0    0    0    0    0    0    0    0    0    0    0\n",
      "    0    0    0    0    0    0    0    0    0    0    0    0    0    0\n",
      "    0    0   87   60  138  273   10  132  862    6   13  618    5  126\n",
      " 6833    7    1 6834  283  203   17    6   13  164    6   14   80 1298\n",
      "   28   15   21  104  503    5  120    7   17 3546   11   75    1  115\n",
      " 1502    7 3937 1150   41   50  559   84  128   37  456   15   23   15\n",
      "   47   79    8   60]\n"
     ]
    }
   ],
   "source": [
    "print(padded_sequence[0])"
   ]
  },
  {
   "cell_type": "code",
   "execution_count": 4,
   "id": "938a50d1",
   "metadata": {},
   "outputs": [
    {
     "name": "stdout",
     "output_type": "stream",
     "text": [
      "Metal device set to: Apple M1\n",
      "\n",
      "systemMemory: 8.00 GB\n",
      "maxCacheSize: 2.67 GB\n",
      "\n",
      "WARNING:tensorflow:Layer lstm will not use cuDNN kernels since it doesn't meet the criteria. It will use a generic GPU kernel as fallback when running on GPU.\n"
     ]
    },
    {
     "name": "stderr",
     "output_type": "stream",
     "text": [
      "2023-04-29 10:50:00.122328: I tensorflow/core/common_runtime/pluggable_device/pluggable_device_factory.cc:305] Could not identify NUMA node of platform GPU ID 0, defaulting to 0. Your kernel may not have been built with NUMA support.\n",
      "2023-04-29 10:50:00.123969: I tensorflow/core/common_runtime/pluggable_device/pluggable_device_factory.cc:271] Created TensorFlow device (/job:localhost/replica:0/task:0/device:GPU:0 with 0 MB memory) -> physical PluggableDevice (device: 0, name: METAL, pci bus id: <undefined>)\n"
     ]
    },
    {
     "name": "stdout",
     "output_type": "stream",
     "text": [
      "Model: \"sequential\"\n",
      "_________________________________________________________________\n",
      " Layer (type)                Output Shape              Param #   \n",
      "=================================================================\n",
      " embedding (Embedding)       (None, 200, 32)           1394208   \n",
      "                                                                 \n",
      " spatial_dropout1d (SpatialD  (None, 200, 32)          0         \n",
      " ropout1D)                                                       \n",
      "                                                                 \n",
      " lstm (LSTM)                 (None, 50)                16600     \n",
      "                                                                 \n",
      " dropout (Dropout)           (None, 50)                0         \n",
      "                                                                 \n",
      " dense (Dense)               (None, 1)                 51        \n",
      "                                                                 \n",
      "=================================================================\n",
      "Total params: 1,410,859\n",
      "Trainable params: 1,410,859\n",
      "Non-trainable params: 0\n",
      "_________________________________________________________________\n",
      "None\n"
     ]
    }
   ],
   "source": [
    "embedding_vector_length = 32\n",
    "model = Sequential() \n",
    "model.add(Embedding(vocab_size, embedding_vector_length, input_length=200) )\n",
    "model.add(SpatialDropout1D(0.25))\n",
    "model.add(LSTM(50, dropout=0.5, recurrent_dropout=0.5))\n",
    "model.add(Dropout(0.2))\n",
    "model.add(Dense(1, activation='sigmoid')) \n",
    "model.compile(loss='binary_crossentropy',optimizer='adam', metrics=['accuracy'])  \n",
    "print(model.summary()) "
   ]
  },
  {
   "cell_type": "code",
   "execution_count": 5,
   "id": "ab82873c",
   "metadata": {},
   "outputs": [
    {
     "name": "stdout",
     "output_type": "stream",
     "text": [
      "Epoch 1/5\n"
     ]
    },
    {
     "name": "stderr",
     "output_type": "stream",
     "text": [
      "2023-04-29 10:50:03.083356: W tensorflow/core/platform/profile_utils/cpu_utils.cc:128] Failed to get CPU frequency: 0 Hz\n",
      "2023-04-29 10:50:03.980735: I tensorflow/core/grappler/optimizers/custom_graph_optimizer_registry.cc:113] Plugin optimizer for device_type GPU is enabled.\n"
     ]
    },
    {
     "name": "stdout",
     "output_type": "stream",
     "text": [
      "347/347 [==============================] - ETA: 0s - loss: 0.5538 - accuracy: 0.6925"
     ]
    },
    {
     "name": "stderr",
     "output_type": "stream",
     "text": [
      "2023-04-29 10:51:08.379711: I tensorflow/core/grappler/optimizers/custom_graph_optimizer_registry.cc:113] Plugin optimizer for device_type GPU is enabled.\n"
     ]
    },
    {
     "name": "stdout",
     "output_type": "stream",
     "text": [
      "347/347 [==============================] - 73s 208ms/step - loss: 0.5538 - accuracy: 0.6925 - val_loss: 0.3683 - val_accuracy: 0.8503\n",
      "Epoch 2/5\n",
      "347/347 [==============================] - 73s 212ms/step - loss: 0.3031 - accuracy: 0.8810 - val_loss: 0.3386 - val_accuracy: 0.8572\n",
      "Epoch 3/5\n",
      "347/347 [==============================] - 68s 197ms/step - loss: 0.1989 - accuracy: 0.9294 - val_loss: 0.3588 - val_accuracy: 0.8597\n",
      "Epoch 4/5\n",
      "347/347 [==============================] - 71s 205ms/step - loss: 0.1464 - accuracy: 0.9486 - val_loss: 0.4287 - val_accuracy: 0.8489\n",
      "Epoch 5/5\n",
      "347/347 [==============================] - 70s 200ms/step - loss: 0.1061 - accuracy: 0.9640 - val_loss: 0.4458 - val_accuracy: 0.8601\n"
     ]
    }
   ],
   "source": [
    "with tf.device('/cpu:0'):\n",
    "    history = model.fit(padded_sequence,sentiment_label[0],validation_split=0.2, epochs=5, batch_size=32)"
   ]
  },
  {
   "cell_type": "code",
   "execution_count": 6,
   "id": "747e93bf",
   "metadata": {},
   "outputs": [
    {
     "data": {
      "image/png": "[encoded data removed]",
      "text/plain": [
       "<Figure size 640x480 with 1 Axes>"
      ]
     },
     "metadata": {},
     "output_type": "display_data"
    },
    {
     "data": {
      "text/plain": [
       "<Figure size 640x480 with 0 Axes>"
      ]
     },
     "metadata": {},
     "output_type": "display_data"
    }
   ],
   "source": [
    "plt.plot(history.history['accuracy'], label='acc')\n",
    "plt.plot(history.history['val_accuracy'], label='val_acc')\n",
    "plt.legend()\n",
    "plt.show()\n",
    "plt.savefig(\"Amazon Review Accuracy plot.jpg\")"
   ]
  },
  {
   "cell_type": "code",
   "execution_count": 7,
   "id": "e6850556",
   "metadata": {},
   "outputs": [
    {
     "data": {
      "image/png": "[encoded data removed]",
      "text/plain": [
       "<Figure size 640x480 with 1 Axes>"
      ]
     },
     "metadata": {},
     "output_type": "display_data"
    },
    {
     "data": {
      "text/plain": [
       "<Figure size 640x480 with 0 Axes>"
      ]
     },
     "metadata": {},
     "output_type": "display_data"
    }
   ],
   "source": [
    "plt.plot(history.history['loss'], label='loss')\n",
    "plt.plot(history.history['val_loss'], label='val_loss')\n",
    "plt.legend()\n",
    "plt.show()\n",
    "plt.savefig(\"Amazon Review Loss plot.jpg\")"
   ]
  },
  {
   "cell_type": "code",
   "execution_count": 8,
   "id": "b8691038",
   "metadata": {},
   "outputs": [],
   "source": [
    "def predict_sentiment(text):\n",
    "    tw = tokenizer.texts_to_sequences([text])\n",
    "    tw = pad_sequences(tw,maxlen=200)\n",
    "    prediction = int(model.predict(tw).round().item())\n",
    "    print(\"Predicted label: \", sentiment_label[1][prediction])"
   ]
  },
  {
   "cell_type": "code",
   "execution_count": null,
   "id": "46524618",
   "metadata": {},
   "outputs": [],
   "source": [
    "def predict_sentiment(text, model):\n",
    "    tw = tokenizer.texts_to_sequences([text])\n",
    "    tw = pad_sequences(tw,maxlen=200)\n",
    "    prediction = int(model.predict(tw).round().item())\n",
    "    print(\"Predicted label: \", sentiment_label[1][prediction])"
   ]
  },
  {
   "cell_type": "code",
   "execution_count": 9,
   "id": "a8318f8a",
   "metadata": {},
   "outputs": [
    {
     "name": "stderr",
     "output_type": "stream",
     "text": [
      "2023-04-29 10:55:59.762296: I tensorflow/core/grappler/optimizers/custom_graph_optimizer_registry.cc:113] Plugin optimizer for device_type GPU is enabled.\n"
     ]
    },
    {
     "name": "stdout",
     "output_type": "stream",
     "text": [
      "1/1 [==============================] - 2s 2s/step\n",
      "Predicted label:  negative\n",
      "1/1 [==============================] - 1s 1s/step\n",
      "Predicted label:  positive\n"
     ]
    }
   ],
   "source": [
    "test_sentence1 = \"Still waiting on bags from flight 1613/2440 yesterday  First Class passenger not happy with your service.\"\n",
    "predict_sentiment(test_sentence1)\n",
    "\n",
    "test_sentence2 = \"So excited for my first cross country flight LAX to MCO I've heard nothing but great things about Virgin America.\"\n",
    "predict_sentiment(test_sentence2)"
   ]
  }
 ],
 "metadata": {
  "kernelspec": {
   "display_name": "Python 3.10.10 ('cv')",
   "language": "python",
   "name": "python3"
  },
  "language_info": {
   "codemirror_mode": {
    "name": "ipython",
    "version": 3
   },
   "file_extension": ".py",
   "mimetype": "text/x-python",
   "name": "python",
   "nbconvert_exporter": "python",
   "pygments_lexer": "ipython3",
   "version": "3.8.16"
  },
  "vscode": {
   "interpreter": {
    "hash": "15c7142fba8b64fd0b7da647e60cc85bf6d37d92e9069ccf8f4b8c622f00b28e"
   }
  }
 },
 "nbformat": 4,
 "nbformat_minor": 5
}
