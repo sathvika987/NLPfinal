{
 "cells": [
  {
   "cell_type": "markdown",
   "id": "d42af45e",
   "metadata": {},
   "source": [
    "## Sentiment Analysis on US Airline Reviews"
   ]
  },
  {
   "cell_type": "code",
   "execution_count": 57,
   "id": "e7500ab9",
   "metadata": {},
   "outputs": [],
   "source": [
    "#%pip install tensorflow\n",
    "import pandas as pd\n",
    "import matplotlib.pyplot as plt\n",
    "import re\n",
    "\n",
    "from tensorflow.keras.preprocessing.text import Tokenizer\n",
    "from tensorflow.keras.preprocessing.sequence import pad_sequences\n",
    "from tensorflow.keras.models import Sequential\n",
    "from tensorflow.keras.layers import LSTM,Dense, Dropout, SpatialDropout1D\n",
    "from tensorflow.keras.layers import Embedding\n",
    "\n"
   ]
  },
  {
   "cell_type": "code",
   "execution_count": 45,
   "id": "ef93c997",
   "metadata": {},
   "outputs": [],
   "source": [
    "amazondata = []\n",
    "with open(\"./amazonreviewssmall.txt\") as f: \n",
    "    for line in f: \n",
    "        line = line.replace(\"__label__2 \", \"positive\\t\")\n",
    "        line = line.replace(\"__label__1 \", \"negative\\t\")\n",
    "        amazondata.append(line.split(\"\\t\"))\n",
    "        # re.sub(r\"__label_2 \", \"positive\\t\", line)\n",
    "        # re.sub(r\"__label__1\", \"negative\\t\", line)\n",
    "        #break\n",
    "        \n",
    "#print(amazondata)\n",
    "review_df = pd.DataFrame(amazondata)\n",
    "review_df.columns = [\"sentiment\", 'text']\n",
    "#df.head\n",
    "review_df = review_df.sample(14873, random_state=1)"
   ]
  },
  {
   "cell_type": "code",
   "execution_count": 58,
   "id": "54d2aa19",
   "metadata": {},
   "outputs": [],
   "source": [
    "review_df.head()\n",
    "review_df['sentiment'].value_counts()\n",
    "sentiment_label = review_df.sentiment.factorize()\n",
    "sentiment_label\n",
    "review = review_df.text.values\n",
    "tokenizer = Tokenizer(num_words=50000)\n",
    "tokenizer.fit_on_texts(review)\n",
    "vocab_size = len(tokenizer.word_index) + 1\n",
    "encoded_docs = tokenizer.texts_to_sequences(review)\n",
    "padded_sequence = pad_sequences(encoded_docs, maxlen=200)"
   ]
  },
  {
   "cell_type": "code",
   "execution_count": 59,
   "id": "2ebbbd23",
   "metadata": {},
   "outputs": [
    {
     "name": "stdout",
     "output_type": "stream",
     "text": [
      "(14640, 2)\n",
      "(11541, 2)\n"
     ]
    }
   ],
   "source": [
    "#process twitter data\n",
    "df = pd.read_csv(\"./Tweets.csv\")\n",
    "df.head()\n",
    "df.columns\n",
    "tweet_df = df[['text','airline_sentiment']]\n",
    "print(tweet_df.shape)\n",
    "tweet_df.head(5)\n",
    "tweet_df = tweet_df[tweet_df['airline_sentiment'] != 'neutral']\n",
    "print(tweet_df.shape)\n",
    "tweet_df.head(5)\n",
    "tweet_df[\"airline_sentiment\"].value_counts()\n",
    "sentiment_label = tweet_df.airline_sentiment.factorize()\n",
    "sentiment_label\n",
    "\n",
    "tweet = tweet_df.text.values\n",
    "tokenizer = Tokenizer(num_words=5000)\n",
    "tokenizer.fit_on_texts(tweet)\n",
    "vocab_size = len(tokenizer.word_index) + 1\n",
    "encoded_docs = tokenizer.texts_to_sequences(tweet)\n",
    "padded_sequence = pad_sequences(encoded_docs, maxlen=200)"
   ]
  },
  {
   "cell_type": "code",
   "execution_count": 1,
   "id": "69ed76e5",
   "metadata": {},
   "outputs": [
    {
     "ename": "NameError",
     "evalue": "name 'tokenizer' is not defined",
     "output_type": "error",
     "traceback": [
      "\u001b[0;31m---------------------------------------------------------------------------\u001b[0m",
      "\u001b[0;31mNameError\u001b[0m                                 Traceback (most recent call last)",
      "Cell \u001b[0;32mIn[1], line 1\u001b[0m\n\u001b[0;32m----> 1\u001b[0m \u001b[38;5;28mprint\u001b[39m(\u001b[43mtokenizer\u001b[49m\u001b[38;5;241m.\u001b[39mword_index)\n",
      "\u001b[0;31mNameError\u001b[0m: name 'tokenizer' is not defined"
     ]
    }
   ],
   "source": [
    "print(tokenizer.word_index)"
   ]
  },
  {
   "cell_type": "code",
   "execution_count": null,
   "id": "eb82b8ed",
   "metadata": {},
   "outputs": [],
   "source": [
    "print(tweet[0])\n",
    "print(encoded_docs[0])"
   ]
  },
  {
   "cell_type": "code",
   "execution_count": 47,
   "id": "427ff188",
   "metadata": {},
   "outputs": [
    {
     "name": "stdout",
     "output_type": "stream",
     "text": [
      "[   0    0    0    0    0    0    0    0    0    0    0    0    0    0\n",
      "    0    0    0    0    0    0    0    0    0    0    0    0    0    0\n",
      "    0    0    0    0    0    0    0    0    0    0    0    0    0    0\n",
      "    0    0    0    0    0    0    0    0    0    0    0    0    0    0\n",
      "    0    0    0    0    0    0    0    0    0    0    0    0    0    0\n",
      "    0    0    0    0    0    0    0    0    0    0    0    0    0    0\n",
      "    0    0    0    0    0    0    0    0    0    0    0    0    0    0\n",
      "    0    0    0    0    0    0    0    0    0    0    0    0    0    0\n",
      "    0    0    0    0    0    0    0    0    0    0    0    0    0    0\n",
      "    0    0    0    0    0    0    0    0    0    0    0    0    0    0\n",
      "    0    0   87   60  138  273   10  132  862    6   13  618    5  126\n",
      " 6833    7    1 6834  283  203   17    6   13  164    6   14   80 1298\n",
      "   28   15   21  104  503    5  120    7   17 3546   11   75    1  115\n",
      " 1502    7 3937 1150   41   50  559   84  128   37  456   15   23   15\n",
      "   47   79    8   60]\n"
     ]
    }
   ],
   "source": [
    "print(padded_sequence[0])"
   ]
  },
  {
   "cell_type": "code",
   "execution_count": 61,
   "id": "938a50d1",
   "metadata": {},
   "outputs": [
    {
     "name": "stdout",
     "output_type": "stream",
     "text": [
      "Model: \"sequential_2\"\n",
      "_________________________________________________________________\n",
      " Layer (type)                Output Shape              Param #   \n",
      "=================================================================\n",
      " embedding_2 (Embedding)     (None, 200, 32)           423488    \n",
      "                                                                 \n",
      " spatial_dropout1d_2 (Spatia  (None, 200, 32)          0         \n",
      " lDropout1D)                                                     \n",
      "                                                                 \n",
      " lstm_2 (LSTM)               (None, 50)                16600     \n",
      "                                                                 \n",
      " dropout_2 (Dropout)         (None, 50)                0         \n",
      "                                                                 \n",
      " dense_2 (Dense)             (None, 1)                 51        \n",
      "                                                                 \n",
      "=================================================================\n",
      "Total params: 440,139\n",
      "Trainable params: 440,139\n",
      "Non-trainable params: 0\n",
      "_________________________________________________________________\n",
      "None\n"
     ]
    }
   ],
   "source": [
    "embedding_vector_length = 32\n",
    "model = Sequential() \n",
    "model.add(Embedding(vocab_size, embedding_vector_length, input_length=200) )\n",
    "model.add(SpatialDropout1D(0.25))\n",
    "model.add(LSTM(50, dropout=0.5, recurrent_dropout=0.5))\n",
    "model.add(Dropout(0.2))\n",
    "model.add(Dense(1, activation='sigmoid')) \n",
    "model.compile(loss='binary_crossentropy',optimizer='adam', metrics=['accuracy'])  \n",
    "print(model.summary()) "
   ]
  },
  {
   "cell_type": "code",
   "execution_count": 62,
   "id": "ab82873c",
   "metadata": {},
   "outputs": [
    {
     "name": "stdout",
     "output_type": "stream",
     "text": [
      "Epoch 1/5\n",
      "289/289 [==============================] - 34s 108ms/step - loss: 0.3955 - accuracy: 0.8371 - val_loss: 0.2145 - val_accuracy: 0.9212\n",
      "Epoch 2/5\n",
      "289/289 [==============================] - 31s 108ms/step - loss: 0.2196 - accuracy: 0.9143 - val_loss: 0.1675 - val_accuracy: 0.9342\n",
      "Epoch 3/5\n",
      "289/289 [==============================] - 31s 108ms/step - loss: 0.1626 - accuracy: 0.9372 - val_loss: 0.1618 - val_accuracy: 0.9407\n",
      "Epoch 4/5\n",
      "289/289 [==============================] - 31s 108ms/step - loss: 0.1337 - accuracy: 0.9500 - val_loss: 0.1838 - val_accuracy: 0.9433\n",
      "Epoch 5/5\n",
      "289/289 [==============================] - 31s 108ms/step - loss: 0.1138 - accuracy: 0.9580 - val_loss: 0.1711 - val_accuracy: 0.9441\n"
     ]
    }
   ],
   "source": [
    "history = model.fit(padded_sequence,sentiment_label[0],validation_split=0.2, epochs=5, batch_size=32)"
   ]
  },
  {
   "cell_type": "code",
   "execution_count": 64,
   "id": "747e93bf",
   "metadata": {},
   "outputs": [
    {
     "data": {
      "image/png": "[encoded data removed]",
      "text/plain": [
       "<Figure size 640x480 with 1 Axes>"
      ]
     },
     "metadata": {},
     "output_type": "display_data"
    },
    {
     "data": {
      "text/plain": [
       "<Figure size 640x480 with 0 Axes>"
      ]
     },
     "metadata": {},
     "output_type": "display_data"
    }
   ],
   "source": [
    "plt.plot(history.history['accuracy'], label='acc')\n",
    "plt.plot(history.history['val_accuracy'], label='val_acc')\n",
    "plt.legend()\n",
    "plt.show()\n",
    "plt.savefig(\"Amazon Review Accuracy plot.jpg\")"
   ]
  },
  {
   "cell_type": "code",
   "execution_count": 65,
   "id": "e6850556",
   "metadata": {},
   "outputs": [
    {
     "data": {
      "image/png": "[encoded data removed]",
      "text/plain": [
       "<Figure size 640x480 with 1 Axes>"
      ]
     },
     "metadata": {},
     "output_type": "display_data"
    },
    {
     "data": {
      "text/plain": [
       "<Figure size 640x480 with 0 Axes>"
      ]
     },
     "metadata": {},
     "output_type": "display_data"
    }
   ],
   "source": [
    "plt.plot(history.history['loss'], label='loss')\n",
    "plt.plot(history.history['val_loss'], label='val_loss')\n",
    "plt.legend()\n",
    "plt.show()\n",
    "plt.savefig(\"Amazon Review Loss plot.jpg\")"
   ]
  },
  {
   "cell_type": "code",
   "execution_count": 52,
   "id": "b8691038",
   "metadata": {},
   "outputs": [],
   "source": [
    "def predict_sentiment(text):\n",
    "    tw = tokenizer.texts_to_sequences([text])\n",
    "    tw = pad_sequences(tw,maxlen=200)\n",
    "    prediction = int(model.predict(tw).round().item())\n",
    "    print(\"Predicted label: \", sentiment_label[1][prediction])"
   ]
  },
  {
   "cell_type": "code",
   "execution_count": 67,
   "id": "a8318f8a",
   "metadata": {},
   "outputs": [
    {
     "name": "stdout",
     "output_type": "stream",
     "text": [
      "1/1 [==============================] - 0s 20ms/step\n",
      "Predicted label:  negative\n",
      "1/1 [==============================] - 0s 20ms/step\n",
      "Predicted label:  positive\n"
     ]
    }
   ],
   "source": [
    "test_sentence1 = \"Still waiting on bags from flight 1613/2440 yesterday  First Class passenger not happy with your service.\"\n",
    "predict_sentiment(test_sentence1)\n",
    "\n",
    "test_sentence2 = \"So excited for my first cross country flight LAX to MCO I've heard nothing but great things about Virgin America.\"\n",
    "predict_sentiment(test_sentence2)"
   ]
  },
  {
   "cell_type": "code",
   "execution_count": null,
   "id": "f728f39b",
   "metadata": {},
   "outputs": [],
   "source": []
  }
 ],
 "metadata": {
  "kernelspec": {
   "display_name": "Python 3.10.10 ('cv')",
   "language": "python",
   "name": "python3"
  },
  "language_info": {
   "codemirror_mode": {
    "name": "ipython",
    "version": 3
   },
   "file_extension": ".py",
   "mimetype": "text/x-python",
   "name": "python",
   "nbconvert_exporter": "python",
   "pygments_lexer": "ipython3",
   "version": "3.10.10"
  },
  "vscode": {
   "interpreter": {
    "hash": "15c7142fba8b64fd0b7da647e60cc85bf6d37d92e9069ccf8f4b8c622f00b28e"
   }
  }
 },
 "nbformat": 4,
 "nbformat_minor": 5
}
